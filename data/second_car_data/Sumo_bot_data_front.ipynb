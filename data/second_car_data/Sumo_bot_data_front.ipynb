{
  "nbformat": 4,
  "nbformat_minor": 0,
  "metadata": {
    "colab": {
      "provenance": [],
      "authorship_tag": "ABX9TyPaJuzscPPESgRNQwWxzmZA",
      "include_colab_link": true
    },
    "kernelspec": {
      "name": "python3",
      "display_name": "Python 3"
    },
    "language_info": {
      "name": "python"
    }
  },
  "cells": [
    {
      "cell_type": "markdown",
      "metadata": {
        "id": "view-in-github",
        "colab_type": "text"
      },
      "source": [
        "<a href=\"https://colab.research.google.com/github/HenryCROSS/sumobot/blob/master/data/second_car_data/Sumo_bot_data_front.ipynb\" target=\"_parent\"><img src=\"https://colab.research.google.com/assets/colab-badge.svg\" alt=\"Open In Colab\"/></a>"
      ]
    },
    {
      "cell_type": "code",
      "execution_count": 1,
      "metadata": {
        "colab": {
          "base_uri": "https://localhost:8080/"
        },
        "id": "V8QLpwhmptWc",
        "outputId": "83bcfade-292f-49b1-86d2-75bc14703048"
      },
      "outputs": [
        {
          "output_type": "stream",
          "name": "stdout",
          "text": [
            "mean of ultra L is: 3.1957516339869283\n",
            "mean of ultra R is: 3.7296052631578953\n",
            "standard deviation of ultra L is: 0.3581938950050639\n",
            "standard deviation of ultra R is: 0.11895311758346427\n",
            "left sensor error is 3.1957516339869283 cm , and right sensor error is 3.7296052631578953 cm\n"
          ]
        }
      ],
      "source": [
        "import pandas as pd\n",
        "import numpy as np\n",
        "\n",
        "# Data 0 cm\n",
        "\n",
        "\n",
        "data_0_cm = 'https://raw.githubusercontent.com/HenryCROSS/sumobot/master/data/second_car_data/data_front/0cm.csv'\n",
        "\n",
        "\n",
        "data = pd.read_csv(data_0_cm, header = None )\n",
        "\n",
        "\n",
        "# Lists to hold the sorted values\n",
        "ultra_L = []\n",
        "ultra_R = []\n",
        "#print(data)\n",
        "#print(data[1][3])\n",
        "\n",
        "for i in range(len(data)-1):\n",
        "  if i % 2 == 0:\n",
        "    data_L = data[1][i]\n",
        "    ultra_L.append(data_L)\n",
        "  else:\n",
        "    data_R = data[1][i]\n",
        "    ultra_R.append(data_R)\n",
        "\n",
        "mean_ultra_L = np.mean(ultra_L)\n",
        "mean_ultra_R = np.mean(ultra_R)\n",
        "std_ultra_L = np.std(ultra_L)\n",
        "std_ultra_R = np.std(ultra_R)\n",
        "\n",
        "theoretical_value = 0\n",
        "\n",
        "error_L = np.abs(theoretical_value - mean_ultra_L)\n",
        "error_R = np.abs(theoretical_value - mean_ultra_R)\n",
        "\n",
        "\n",
        "\n",
        "\n",
        "print(f'mean of ultra L is: {mean_ultra_L}')\n",
        "print(f'mean of ultra R is: {mean_ultra_R}')\n",
        "print(f'standard deviation of ultra L is: {std_ultra_L}')\n",
        "print(f'standard deviation of ultra R is: {std_ultra_R}')\n",
        "print(f\"left sensor error is {error_L} cm , and right sensor error is {error_R} cm\")\n",
        "\n"
      ]
    },
    {
      "cell_type": "code",
      "source": [
        "import pandas as pd\n",
        "import numpy as np\n",
        "\n",
        "data_10_cm = 'https://raw.githubusercontent.com/HenryCROSS/sumobot/master/data/second_car_data/data_front/10cm.csv'\n",
        "\n",
        "\n",
        "data = pd.read_csv(data_10_cm, header = None )\n",
        "\n",
        "\n",
        "# Lists to hold the sorted values\n",
        "ultra_L = []\n",
        "ultra_R = []\n",
        "#print(data)\n",
        "#print(data[1][3])\n",
        "\n",
        "for i in range(len(data)-1):\n",
        "  if i % 2 == 0:\n",
        "    data_L = data[1][i]\n",
        "    ultra_L.append(data_L)\n",
        "  else:\n",
        "    data_R = data[1][i]\n",
        "    ultra_R.append(data_R)\n",
        "\n",
        "\n",
        "# Data_front 10cm\n",
        "\n",
        "mean_ultra_L = np.mean(ultra_L)\n",
        "mean_ultra_R = np.mean(ultra_R)\n",
        "std_ultra_L = np.std(ultra_L)\n",
        "std_ultra_R = np.std(ultra_R)\n",
        "\n",
        "theoretical_value = 10\n",
        "\n",
        "error_L = np.abs(theoretical_value - mean_ultra_L)\n",
        "error_R = np.abs(theoretical_value - mean_ultra_R)\n",
        "\n",
        "print(f'mean of ultra L is: {mean_ultra_L}')\n",
        "print(f'mean of ultra R is: {mean_ultra_R}')\n",
        "print(f'standard deviation of ultra L is: {std_ultra_L}')\n",
        "print(f'standard deviation of ultra R is: {std_ultra_R}')\n",
        "print(f\"left sensor error is {error_L} cm , and right sensor error is {error_R} cm\")\n"
      ],
      "metadata": {
        "colab": {
          "base_uri": "https://localhost:8080/"
        },
        "id": "rj8K4GiozKM0",
        "outputId": "1a65f87e-619b-49f0-c4d4-5fc7eca373ca"
      },
      "execution_count": 2,
      "outputs": [
        {
          "output_type": "stream",
          "name": "stdout",
          "text": [
            "mean of ultra L is: 11.084117647058822\n",
            "mean of ultra R is: 12.001907894736842\n",
            "standard deviation of ultra L is: 0.2492276419896448\n",
            "standard deviation of ultra R is: 0.04803690402387973\n",
            "left sensor error is 1.0841176470588216 cm , and right sensor error is 2.001907894736842 cm\n"
          ]
        }
      ]
    },
    {
      "cell_type": "code",
      "source": [
        "import pandas as pd\n",
        "import numpy as np\n",
        "\n",
        "data_20_cm = 'https://raw.githubusercontent.com/HenryCROSS/sumobot/master/data/second_car_data/data_front/20cm.csv'\n",
        "\n",
        "\n",
        "data = pd.read_csv(data_20_cm, header = None )\n",
        "\n",
        "\n",
        "# Lists to hold the sorted values\n",
        "ultra_L = []\n",
        "ultra_R = []\n",
        "#print(data)\n",
        "#print(data[1][3])\n",
        "\n",
        "for i in range(len(data)-1):\n",
        "  if i % 2 == 0:\n",
        "    data_L = data[1][i]\n",
        "    ultra_L.append(data_L)\n",
        "  else:\n",
        "    data_R = data[1][i]\n",
        "    ultra_R.append(data_R)\n",
        "\n",
        "\n",
        "# Data_front 20cm\n",
        "mean_ultra_L = np.mean(ultra_L)\n",
        "mean_ultra_R = np.mean(ultra_R)\n",
        "std_ultra_L = np.std(ultra_L)\n",
        "std_ultra_R = np.std(ultra_R)\n",
        "\n",
        "theoretical_value = 0\n",
        "\n",
        "error_L = np.abs(theoretical_value - mean_ultra_L)\n",
        "error_R = np.abs(theoretical_value - mean_ultra_R)\n",
        "\n",
        "\n",
        "\n",
        "\n",
        "print(f'mean of ultra L is: {mean_ultra_L}')\n",
        "print(f'mean of ultra R is: {mean_ultra_R}')\n",
        "print(f'standard deviation of ultra L is: {std_ultra_L}')\n",
        "print(f'standard deviation of ultra R is: {std_ultra_R}')\n",
        "print(f\"left sensor error is {error_L} cm , and right sensor error is {error_R} cm\")\n"
      ],
      "metadata": {
        "colab": {
          "base_uri": "https://localhost:8080/"
        },
        "id": "vgAPYa1cz5bP",
        "outputId": "1740ea56-d7a1-4c55-d140-54f2178d8ff1"
      },
      "execution_count": 3,
      "outputs": [
        {
          "output_type": "stream",
          "name": "stdout",
          "text": [
            "mean of ultra L is: 21.98214765100671\n",
            "mean of ultra R is: 23.177297297297297\n",
            "standard deviation of ultra L is: 0.4718414074343726\n",
            "standard deviation of ultra R is: 0.050825544154895916\n",
            "left sensor error is 21.98214765100671 cm , and right sensor error is 23.177297297297297 cm\n"
          ]
        }
      ]
    },
    {
      "cell_type": "code",
      "source": [
        "import pandas as pd\n",
        "import numpy as np\n",
        "\n",
        "data_30_cm = 'https://raw.githubusercontent.com/HenryCROSS/sumobot/master/data/second_car_data/data_front/30cm.csv'\n",
        "\n",
        "\n",
        "data = pd.read_csv(data_30_cm, header = None )\n",
        "\n",
        "\n",
        "# Lists to hold the sorted values\n",
        "ultra_L = []\n",
        "ultra_R = []\n",
        "#print(data)\n",
        "#print(data[1][3])\n",
        "\n",
        "for i in range(len(data)-1):\n",
        "  if i % 2 == 0:\n",
        "    data_L = data[1][i]\n",
        "    ultra_L.append(data_L)\n",
        "  else:\n",
        "    data_R = data[1][i]\n",
        "    ultra_R.append(data_R)\n",
        "\n",
        "mean_ultra_L = np.mean(ultra_L)\n",
        "mean_ultra_R = np.mean(ultra_R)\n",
        "\n",
        "# Data_front 30cm\n",
        "\n",
        "mean_ultra_L = np.mean(ultra_L)\n",
        "mean_ultra_R = np.mean(ultra_R)\n",
        "std_ultra_L = np.std(ultra_L)\n",
        "std_ultra_R = np.std(ultra_R)\n",
        "\n",
        "theoretical_value = 30\n",
        "\n",
        "error_L = np.abs(theoretical_value - mean_ultra_L)\n",
        "error_R = np.abs(theoretical_value - mean_ultra_R)\n",
        "\n",
        "print(f'mean of ultra L is: {mean_ultra_L}')\n",
        "print(f'mean of ultra R is: {mean_ultra_R}')\n",
        "print(f'standard deviation of ultra L is: {std_ultra_L}')\n",
        "print(f'standard deviation of ultra R is: {std_ultra_R}')\n",
        "print(f\"left sensor error is {error_L} cm , and right sensor error is {error_R} cm\")"
      ],
      "metadata": {
        "colab": {
          "base_uri": "https://localhost:8080/"
        },
        "id": "uTbr4EES1ibg",
        "outputId": "9c9b6fbe-b770-4e01-992a-e0392cb4f4db"
      },
      "execution_count": 4,
      "outputs": [
        {
          "output_type": "stream",
          "name": "stdout",
          "text": [
            "mean of ultra L is: 31.343333333333334\n",
            "mean of ultra R is: 32.680530973451326\n",
            "standard deviation of ultra L is: 0.08566219525500422\n",
            "standard deviation of ultra R is: 0.5515446382467133\n",
            "left sensor error is 1.3433333333333337 cm , and right sensor error is 2.680530973451326 cm\n"
          ]
        }
      ]
    },
    {
      "cell_type": "code",
      "source": [
        "import pandas as pd\n",
        "import numpy as np\n",
        "\n",
        "data_435_cm = 'https://raw.githubusercontent.com/HenryCROSS/sumobot/master/data/second_car_data/data_front/43.5cm.csv'\n",
        "\n",
        "\n",
        "data = pd.read_csv(data_435_cm, header = None )\n",
        "\n",
        "\n",
        "# Lists to hold the sorted values\n",
        "ultra_L = []\n",
        "ultra_R = []\n",
        "#print(data)\n",
        "#print(data[1][3])\n",
        "\n",
        "for i in range(len(data)-1):\n",
        "  if i % 2 == 0:\n",
        "    data_L = data[1][i]\n",
        "    ultra_L.append(data_L)\n",
        "  else:\n",
        "    data_R = data[1][i]\n",
        "    ultra_R.append(data_R)\n",
        "\n",
        "mean_ultra_L = np.mean(ultra_L)\n",
        "mean_ultra_R = np.mean(ultra_R)\n",
        "\n",
        "# Data_front 43.5cm\n",
        "\n",
        "mean_ultra_L = np.mean(ultra_L)\n",
        "mean_ultra_R = np.mean(ultra_R)\n",
        "std_ultra_L = np.std(ultra_L)\n",
        "std_ultra_R = np.std(ultra_R)\n",
        "\n",
        "theoretical_value = 43.5\n",
        "\n",
        "error_L = np.abs(theoretical_value - mean_ultra_L)\n",
        "error_R = np.abs(theoretical_value - mean_ultra_R)\n",
        "\n",
        "print(f'mean of ultra L is: {mean_ultra_L}')\n",
        "print(f'mean of ultra R is: {mean_ultra_R}')\n",
        "print(f'standard deviation of ultra L is: {std_ultra_L}')\n",
        "print(f'standard deviation of ultra R is: {std_ultra_R}')\n",
        "print(f\"left sensor error is {error_L} cm , and right sensor error is {error_R} cm\")"
      ],
      "metadata": {
        "colab": {
          "base_uri": "https://localhost:8080/"
        },
        "id": "SWmGtiPQ1zQh",
        "outputId": "b34cdcff-3cfa-443f-e2c8-33fac6f49fd6"
      },
      "execution_count": 5,
      "outputs": [
        {
          "output_type": "stream",
          "name": "stdout",
          "text": [
            "mean of ultra L is: 43.23936507936507\n",
            "mean of ultra R is: 43.83055999999999\n",
            "standard deviation of ultra L is: 0.051265663990226557\n",
            "standard deviation of ultra R is: 0.08728164984691844\n",
            "left sensor error is 0.2606349206349279 cm , and right sensor error is 0.3305599999999913 cm\n"
          ]
        }
      ]
    }
  ]
}