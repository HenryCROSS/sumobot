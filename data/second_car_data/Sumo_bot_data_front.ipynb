{
  "nbformat": 4,
  "nbformat_minor": 0,
  "metadata": {
    "colab": {
      "provenance": [],
      "authorship_tag": "ABX9TyMg2UElOhrd+gSsNen1NQg9",
      "include_colab_link": true
    },
    "kernelspec": {
      "name": "python3",
      "display_name": "Python 3"
    },
    "language_info": {
      "name": "python"
    }
  },
  "cells": [
    {
      "cell_type": "markdown",
      "metadata": {
        "id": "view-in-github",
        "colab_type": "text"
      },
      "source": [
        "<a href=\"https://colab.research.google.com/github/HenryCROSS/sumobot/blob/master/data/second_car_data/Sumo_bot_data_front.ipynb\" target=\"_parent\"><img src=\"https://colab.research.google.com/assets/colab-badge.svg\" alt=\"Open In Colab\"/></a>"
      ]
    },
    {
      "cell_type": "code",
      "execution_count": 4,
      "metadata": {
        "colab": {
          "base_uri": "https://localhost:8080/"
        },
        "id": "V8QLpwhmptWc",
        "outputId": "4d41590b-a962-4b83-f4e2-18318528d518"
      },
      "outputs": [
        {
          "output_type": "stream",
          "name": "stdout",
          "text": [
            "mean of ultra L is: 3.461803278688525\n",
            "mean of ultra R is: 3.464032786885246\n",
            "standard deviation of ultra L is: 0.37770709528060986\n",
            "standard deviation of ultra R is: 0.37757179177133127\n",
            "left sensor error is 3.461803278688525 cm , and right sensor error is 3.464032786885246 cm\n"
          ]
        }
      ],
      "source": [
        "import pandas as pd\n",
        "import numpy as np\n",
        "\n",
        "# Data 0 cm\n",
        "\n",
        "\n",
        "data_0_cm = 'https://raw.githubusercontent.com/HenryCROSS/sumobot/master/data/second_car_data/data_front/0cm.csv'\n",
        "\n",
        "\n",
        "data = pd.read_csv(data_0_cm, header = None )\n",
        "\n",
        "\n",
        "# Lists to hold the sorted values\n",
        "ultra_L = []\n",
        "ultra_R = []\n",
        "#print(data)\n",
        "#print(data[1][3])\n",
        "\n",
        "for i in range(len(data)-1):\n",
        "  data_L = data[1][i]\n",
        "  data_R = data[1][i+1]\n",
        "\n",
        "  ultra_L.append(data_L)\n",
        "  ultra_R.append(data_R)\n",
        "\n",
        "mean_ultra_L = np.mean(ultra_L)\n",
        "mean_ultra_R = np.mean(ultra_R)\n",
        "std_ultra_L = np.std(ultra_L)\n",
        "std_ultra_R = np.std(ultra_R)\n",
        "\n",
        "theoretical_value = 0\n",
        "\n",
        "error_L = np.abs(theoretical_value - mean_ultra_L)\n",
        "error_R = np.abs(theoretical_value - mean_ultra_R)\n",
        "\n",
        "\n",
        "\n",
        "\n",
        "print(f'mean of ultra L is: {mean_ultra_L}')\n",
        "print(f'mean of ultra R is: {mean_ultra_R}')\n",
        "print(f'standard deviation of ultra L is: {std_ultra_L}')\n",
        "print(f'standard deviation of ultra R is: {std_ultra_R}')\n",
        "print(f\"left sensor error is {error_L} cm , and right sensor error is {error_R} cm\")\n",
        "\n"
      ]
    },
    {
      "cell_type": "code",
      "source": [
        "import pandas as pd\n",
        "import numpy as np\n",
        "\n",
        "data_10_cm = 'https://raw.githubusercontent.com/HenryCROSS/sumobot/master/data/second_car_data/data_front/10cm.csv'\n",
        "\n",
        "\n",
        "data = pd.read_csv(data_10_cm, header = None )\n",
        "\n",
        "\n",
        "# Lists to hold the sorted values\n",
        "ultra_L = []\n",
        "ultra_R = []\n",
        "#print(data)\n",
        "#print(data[1][3])\n",
        "\n",
        "for i in range(len(data)-1):\n",
        "  data_L = data[1][i]\n",
        "  data_R = data[1][i+1]\n",
        "\n",
        "  ultra_L.append(data_L)\n",
        "  ultra_R.append(data_R)\n",
        "\n",
        "\n",
        "# Data_front 10cm\n",
        "\n",
        "mean_ultra_L = np.mean(ultra_L)\n",
        "mean_ultra_R = np.mean(ultra_R)\n",
        "std_ultra_L = np.std(ultra_L)\n",
        "std_ultra_R = np.std(ultra_R)\n",
        "\n",
        "theoretical_value = 10\n",
        "\n",
        "error_L = np.abs(theoretical_value - mean_ultra_L)\n",
        "error_R = np.abs(theoretical_value - mean_ultra_R)\n",
        "\n",
        "print(f'mean of ultra L is: {mean_ultra_L}')\n",
        "print(f'mean of ultra R is: {mean_ultra_R}')\n",
        "print(f'standard deviation of ultra L is: {std_ultra_L}')\n",
        "print(f'standard deviation of ultra R is: {std_ultra_R}')\n",
        "print(f\"left sensor error is {error_L} cm , and right sensor error is {error_R} cm\")\n"
      ],
      "metadata": {
        "colab": {
          "base_uri": "https://localhost:8080/"
        },
        "id": "rj8K4GiozKM0",
        "outputId": "3b12b105-1dca-4b76-a49d-cb5231f659ba"
      },
      "execution_count": 3,
      "outputs": [
        {
          "output_type": "stream",
          "name": "stdout",
          "text": [
            "mean of ultra L is: 11.541508196721312\n",
            "mean of ultra R is: 11.54511475409836\n",
            "standard deviation of ultra L is: 0.4928402335792539\n",
            "standard deviation of ultra R is: 0.49288917712794017\n",
            "left sensor error is 1.5415081967213116 cm , and right sensor error is 1.5451147540983605 cm\n"
          ]
        }
      ]
    },
    {
      "cell_type": "code",
      "source": [
        "import pandas as pd\n",
        "import numpy as np\n",
        "\n",
        "data_20_cm = 'https://raw.githubusercontent.com/HenryCROSS/sumobot/master/data/second_car_data/data_front/20cm.csv'\n",
        "\n",
        "\n",
        "data = pd.read_csv(data_20_cm, header = None )\n",
        "\n",
        "\n",
        "# Lists to hold the sorted values\n",
        "ultra_L = []\n",
        "ultra_R = []\n",
        "#print(data)\n",
        "#print(data[1][3])\n",
        "\n",
        "for i in range(len(data)-1):\n",
        "  data_L = data[1][i]\n",
        "  data_R = data[1][i+1]\n",
        "\n",
        "  ultra_L.append(data_L)\n",
        "  ultra_R.append(data_R)\n",
        "\n",
        "\n",
        "# Data_front 20cm\n",
        "mean_ultra_L = np.mean(ultra_L)\n",
        "mean_ultra_R = np.mean(ultra_R)\n",
        "std_ultra_L = np.std(ultra_L)\n",
        "std_ultra_R = np.std(ultra_R)\n",
        "\n",
        "theoretical_value = 0\n",
        "\n",
        "error_L = np.abs(theoretical_value - mean_ultra_L)\n",
        "error_R = np.abs(theoretical_value - mean_ultra_R)\n",
        "\n",
        "\n",
        "\n",
        "\n",
        "print(f'mean of ultra L is: {mean_ultra_L}')\n",
        "print(f'mean of ultra R is: {mean_ultra_R}')\n",
        "print(f'standard deviation of ultra L is: {std_ultra_L}')\n",
        "print(f'standard deviation of ultra R is: {std_ultra_R}')\n",
        "print(f\"left sensor error is {error_L} cm , and right sensor error is {error_R} cm\")\n"
      ],
      "metadata": {
        "colab": {
          "base_uri": "https://localhost:8080/"
        },
        "id": "vgAPYa1cz5bP",
        "outputId": "bfbb456a-9470-48d2-f947-5c90c48b9338"
      },
      "execution_count": 60,
      "outputs": [
        {
          "output_type": "stream",
          "name": "stdout",
          "text": [
            "mean of ultra L is: 22.577710437710437\n",
            "mean of ultra R is: 22.583468013468014\n",
            "standard deviation of ultra L is: 0.37770709528060986\n",
            "standard deviation of ultra R is: 0.37757179177133127\n",
            "the difference between the theretical value and the meansure value is 2.5777104377104365 cm for the left sensor , and 2.583468013468014 cm for the right sensor\n"
          ]
        }
      ]
    },
    {
      "cell_type": "code",
      "source": [
        "import pandas as pd\n",
        "import numpy as np\n",
        "\n",
        "data_30_cm = 'https://raw.githubusercontent.com/HenryCROSS/sumobot/master/data/second_car_data/data_front/30cm.csv'\n",
        "\n",
        "\n",
        "data = pd.read_csv(data_30_cm, header = None )\n",
        "\n",
        "\n",
        "# Lists to hold the sorted values\n",
        "ultra_L = []\n",
        "ultra_R = []\n",
        "#print(data)\n",
        "#print(data[1][3])\n",
        "\n",
        "for i in range(len(data)-1):\n",
        "  data_L = data[1][i]\n",
        "  data_R = data[1][i+1]\n",
        "\n",
        "  ultra_L.append(data_L)\n",
        "  ultra_R.append(data_R)\n",
        "\n",
        "mean_ultra_L = np.mean(ultra_L)\n",
        "mean_ultra_R = np.mean(ultra_R)\n",
        "\n",
        "# Data_front 30cm\n",
        "\n",
        "mean_ultra_L = np.mean(ultra_L)\n",
        "mean_ultra_R = np.mean(ultra_R)\n",
        "std_ultra_L = np.std(ultra_L)\n",
        "std_ultra_R = np.std(ultra_R)\n",
        "\n",
        "theoretical_value = 30\n",
        "\n",
        "error_L = np.abs(theoretical_value - mean_ultra_L)\n",
        "error_R = np.abs(theoretical_value - mean_ultra_R)\n",
        "\n",
        "print(f'mean of ultra L is: {mean_ultra_L}')\n",
        "print(f'mean of ultra R is: {mean_ultra_R}')\n",
        "print(f'standard deviation of ultra L is: {std_ultra_L}')\n",
        "print(f'standard deviation of ultra R is: {std_ultra_R}')\n",
        "print(f\"left sensor error is {error_L} cm , and right sensor error is {error_R} cm\")"
      ],
      "metadata": {
        "colab": {
          "base_uri": "https://localhost:8080/"
        },
        "id": "uTbr4EES1ibg",
        "outputId": "7efe0931-0527-4385-bd85-8736c8699c85"
      },
      "execution_count": 5,
      "outputs": [
        {
          "output_type": "stream",
          "name": "stdout",
          "text": [
            "mean of ultra L is: 32.00898678414097\n",
            "mean of ultra R is: 32.01735682819383\n",
            "standard deviation of ultra L is: 0.7759713735135888\n",
            "standard deviation of ultra R is: 0.7771228254848129\n",
            "left sensor error is 2.0089867841409728 cm , and right sensor error is 2.017356828193833 cm\n"
          ]
        }
      ]
    },
    {
      "cell_type": "code",
      "source": [
        "import pandas as pd\n",
        "import numpy as np\n",
        "\n",
        "data_435_cm = 'https://raw.githubusercontent.com/HenryCROSS/sumobot/master/data/second_car_data/data_front/43.5cm.csv'\n",
        "\n",
        "\n",
        "data = pd.read_csv(data_435_cm, header = None )\n",
        "\n",
        "\n",
        "# Lists to hold the sorted values\n",
        "ultra_L = []\n",
        "ultra_R = []\n",
        "#print(data)\n",
        "#print(data[1][3])\n",
        "\n",
        "for i in range(len(data)-1):\n",
        "  data_L = data[1][i]\n",
        "  data_R = data[1][i+1]\n",
        "\n",
        "  ultra_L.append(data_L)\n",
        "  ultra_R.append(data_R)\n",
        "\n",
        "mean_ultra_L = np.mean(ultra_L)\n",
        "mean_ultra_R = np.mean(ultra_R)\n",
        "\n",
        "# Data_front 43.5cm\n",
        "\n",
        "mean_ultra_L = np.mean(ultra_L)\n",
        "mean_ultra_R = np.mean(ultra_R)\n",
        "std_ultra_L = np.std(ultra_L)\n",
        "std_ultra_R = np.std(ultra_R)\n",
        "\n",
        "theoretical_value = 43.5\n",
        "\n",
        "error_L = np.abs(theoretical_value - mean_ultra_L)\n",
        "error_R = np.abs(theoretical_value - mean_ultra_R)\n",
        "\n",
        "print(f'mean of ultra L is: {mean_ultra_L}')\n",
        "print(f'mean of ultra R is: {mean_ultra_R}')\n",
        "print(f'standard deviation of ultra L is: {std_ultra_L}')\n",
        "print(f'standard deviation of ultra R is: {std_ultra_R}')\n",
        "print(f\"left sensor error is {error_L} cm , and right sensor error is {error_R} cm\")"
      ],
      "metadata": {
        "colab": {
          "base_uri": "https://localhost:8080/"
        },
        "id": "SWmGtiPQ1zQh",
        "outputId": "ea55334f-d24b-4462-f5bd-30de46d88814"
      },
      "execution_count": 6,
      "outputs": [
        {
          "output_type": "stream",
          "name": "stdout",
          "text": [
            "mean of ultra L is: 43.533784860557766\n",
            "mean of ultra R is: 43.536055776892425\n",
            "standard deviation of ultra L is: 0.3041211253666927\n",
            "standard deviation of ultra R is: 0.3036733620737284\n",
            "left sensor error is 0.033784860557766194 cm , and right sensor error is 0.03605577689242523 cm\n"
          ]
        }
      ]
    }
  ]
}