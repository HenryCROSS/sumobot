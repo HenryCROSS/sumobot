{
  "nbformat": 4,
  "nbformat_minor": 0,
  "metadata": {
    "colab": {
      "provenance": [],
      "authorship_tag": "ABX9TyNo3tXPKiLteZiqdC4nnYT3",
      "include_colab_link": true
    },
    "kernelspec": {
      "name": "python3",
      "display_name": "Python 3"
    },
    "language_info": {
      "name": "python"
    }
  },
  "cells": [
    {
      "cell_type": "markdown",
      "metadata": {
        "id": "view-in-github",
        "colab_type": "text"
      },
      "source": [
        "<a href=\"https://colab.research.google.com/github/HenryCROSS/sumobot/blob/master/data/second_car_data/Sumo_bot_data.ipynb\" target=\"_parent\"><img src=\"https://colab.research.google.com/assets/colab-badge.svg\" alt=\"Open In Colab\"/></a>"
      ]
    },
    {
      "cell_type": "code",
      "execution_count": 63,
      "metadata": {
        "colab": {
          "base_uri": "https://localhost:8080/"
        },
        "id": "V8QLpwhmptWc",
        "outputId": "b4a205cf-04c5-4cdd-8bfc-026a54c4a01e"
      },
      "outputs": [
        {
          "output_type": "stream",
          "name": "stdout",
          "text": [
            "mean of ultra L is: 3.461803278688525\n",
            "mean of ultra R is: 3.464032786885246\n",
            "standard deviation of ultra L is: 0.37770709528060986\n",
            "standard deviation of ultra R is: 0.37757179177133127\n",
            "the difference between the theretical value and the meansure value is 3.461803278688525 cm for the left sensor , and 3.464032786885246 cm for the right sensor\n"
          ]
        }
      ],
      "source": [
        "import pandas as pd\n",
        "import numpy as np\n",
        "\n",
        "# Data 0 cm\n",
        "\n",
        "\n",
        "data_0_cm = 'https://raw.githubusercontent.com/HenryCROSS/sumobot/master/data/second_car_data/data_front/0cm.csv'\n",
        "\n",
        "\n",
        "data = pd.read_csv(data_0_cm, header = None )\n",
        "\n",
        "\n",
        "# Lists to hold the sorted values\n",
        "ultra_L = []\n",
        "ultra_R = []\n",
        "#print(data)\n",
        "#print(data[1][3])\n",
        "\n",
        "for i in range(len(data)-1):\n",
        "  data_L = data[1][i]\n",
        "  data_R = data[1][i+1]\n",
        "\n",
        "  ultra_L.append(data_L)\n",
        "  ultra_R.append(data_R)\n",
        "\n",
        "mean_ultra_L = np.mean(ultra_L)\n",
        "mean_ultra_R = np.mean(ultra_R)\n",
        "std_ultra_L = np.std(ultra_L)\n",
        "std_ultra_R = np.std(ultra_R)\n",
        "\n",
        "theoretical_value = 0\n",
        "\n",
        "difference_L = np.abs(theoretical_value - mean_ultra_L)\n",
        "difference_R = np.abs(theoretical_value - mean_ultra_R)\n",
        "\n",
        "\n",
        "\n",
        "\n",
        "print(f'mean of ultra L is: {mean_ultra_L}')\n",
        "print(f'mean of ultra R is: {mean_ultra_R}')\n",
        "print(f'standard deviation of ultra L is: {std_ultra_L}')\n",
        "print(f'standard deviation of ultra R is: {std_ultra_R}')\n",
        "print(f\"the difference between the theretical value and the meansure value is {difference_L} cm for the left sensor , and {difference_R} cm for the right sensor\")\n",
        "\n"
      ]
    },
    {
      "cell_type": "code",
      "source": [
        "import pandas as pd\n",
        "import numpy as np\n",
        "\n",
        "data_10_cm = 'https://raw.githubusercontent.com/HenryCROSS/sumobot/master/data/second_car_data/data_front/10cm.csv'\n",
        "\n",
        "\n",
        "data = pd.read_csv(data_10_cm, header = None )\n",
        "\n",
        "\n",
        "# Lists to hold the sorted values\n",
        "ultra_L = []\n",
        "ultra_R = []\n",
        "#print(data)\n",
        "#print(data[1][3])\n",
        "\n",
        "for i in range(len(data)-1):\n",
        "  data_L = data[1][i]\n",
        "  data_R = data[1][i+1]\n",
        "\n",
        "  ultra_L.append(data_L)\n",
        "  ultra_R.append(data_R)\n",
        "\n",
        "mean_ultra_L = np.mean(ultra_L)\n",
        "mean_ultra_R = np.mean(ultra_R)\n",
        "\n",
        "# Data_front 10cm\n",
        "\n",
        "theoretical_value = 10\n",
        "\n",
        "difference_L = np.abs(theoretical_value - mean_ultra_L)\n",
        "difference_R = np.abs(theoretical_value - mean_ultra_R)\n",
        "\n",
        "\n",
        "print(f'mean of ultra L is: {mean_ultra_L}')\n",
        "print(f'mean of ultra R is: {mean_ultra_R}')\n",
        "print(f'standard deviation of ultra L is: {std_ultra_L}')\n",
        "print(f'standard deviation of ultra R is: {std_ultra_R}')\n",
        "print(f\"the difference between the theretical value and the meansure value is {difference_L} cm for the left sensor , and {difference_R} cm for the right sensor\")\n",
        "\n"
      ],
      "metadata": {
        "colab": {
          "base_uri": "https://localhost:8080/"
        },
        "id": "rj8K4GiozKM0",
        "outputId": "760b2cfa-7bf8-488f-dd25-f9322cb2ee4b"
      },
      "execution_count": 62,
      "outputs": [
        {
          "output_type": "stream",
          "name": "stdout",
          "text": [
            "mean of ultra L is: 11.541508196721312\n",
            "mean of ultra R is: 11.54511475409836\n",
            "standard deviation of ultra L is: 0.37770709528060986\n",
            "standard deviation of ultra R is: 0.37757179177133127\n",
            "the difference between the theretical value and the meansure value is 1.5415081967213116 cm for the left sensor , and 1.5451147540983605 cm for the right sensor\n"
          ]
        }
      ]
    },
    {
      "cell_type": "code",
      "source": [
        "import pandas as pd\n",
        "import numpy as np\n",
        "\n",
        "data_20_cm = 'https://raw.githubusercontent.com/HenryCROSS/sumobot/master/data/second_car_data/data_front/20cm.csv'\n",
        "\n",
        "\n",
        "data = pd.read_csv(data_20_cm, header = None )\n",
        "\n",
        "\n",
        "# Lists to hold the sorted values\n",
        "ultra_L = []\n",
        "ultra_R = []\n",
        "#print(data)\n",
        "#print(data[1][3])\n",
        "\n",
        "for i in range(len(data)-1):\n",
        "  data_L = data[1][i]\n",
        "  data_R = data[1][i+1]\n",
        "\n",
        "  ultra_L.append(data_L)\n",
        "  ultra_R.append(data_R)\n",
        "\n",
        "mean_ultra_L = np.mean(ultra_L)\n",
        "mean_ultra_R = np.mean(ultra_R)\n",
        "\n",
        "# Data_front 20cm\n",
        "theoretical_value = 20\n",
        "\n",
        "difference_L = np.abs(theoretical_value - mean_ultra_L)\n",
        "difference_R = np.abs(theoretical_value - mean_ultra_R)\n",
        "\n",
        "print(f'mean of ultra L is: {mean_ultra_L}')\n",
        "print(f'mean of ultra R is: {mean_ultra_R}')\n",
        "print(f'standard deviation of ultra L is: {std_ultra_L}')\n",
        "print(f'standard deviation of ultra R is: {std_ultra_R}')\n",
        "print(f\"the difference between the theretical value and the meansure value is {difference_L} cm for the left sensor , and {difference_R} cm for the right sensor\")\n",
        "\n"
      ],
      "metadata": {
        "colab": {
          "base_uri": "https://localhost:8080/"
        },
        "id": "vgAPYa1cz5bP",
        "outputId": "bfbb456a-9470-48d2-f947-5c90c48b9338"
      },
      "execution_count": 60,
      "outputs": [
        {
          "output_type": "stream",
          "name": "stdout",
          "text": [
            "mean of ultra L is: 22.577710437710437\n",
            "mean of ultra R is: 22.583468013468014\n",
            "standard deviation of ultra L is: 0.37770709528060986\n",
            "standard deviation of ultra R is: 0.37757179177133127\n",
            "the difference between the theretical value and the meansure value is 2.5777104377104365 cm for the left sensor , and 2.583468013468014 cm for the right sensor\n"
          ]
        }
      ]
    },
    {
      "cell_type": "code",
      "source": [
        "import pandas as pd\n",
        "import numpy as np\n",
        "\n",
        "data_30_cm = 'https://raw.githubusercontent.com/HenryCROSS/sumobot/master/data/second_car_data/data_front/30cm.csv'\n",
        "\n",
        "\n",
        "data = pd.read_csv(data_30_cm, header = None )\n",
        "\n",
        "\n",
        "# Lists to hold the sorted values\n",
        "ultra_L = []\n",
        "ultra_R = []\n",
        "#print(data)\n",
        "#print(data[1][3])\n",
        "\n",
        "for i in range(len(data)-1):\n",
        "  data_L = data[1][i]\n",
        "  data_R = data[1][i+1]\n",
        "\n",
        "  ultra_L.append(data_L)\n",
        "  ultra_R.append(data_R)\n",
        "\n",
        "mean_ultra_L = np.mean(ultra_L)\n",
        "mean_ultra_R = np.mean(ultra_R)\n",
        "\n",
        "# Data_front 30cm\n",
        "theoretical_value = 30\n",
        "\n",
        "difference_L = np.abs(theoretical_value - mean_ultra_L)\n",
        "difference_R = np.abs(theoretical_value - mean_ultra_R)\n",
        "\n",
        "print(f'mean of ultra L is: {mean_ultra_L}')\n",
        "print(f'mean of ultra R is: {mean_ultra_R}')\n",
        "print(f'standard deviation of ultra L is: {std_ultra_L}')\n",
        "print(f'standard deviation of ultra R is: {std_ultra_R}')\n",
        "print(f\"the difference between the theretical value and the meansure value is {difference_L} cm for the left sensor , and {difference_R} cm for the right sensor\")\n",
        "\n"
      ],
      "metadata": {
        "colab": {
          "base_uri": "https://localhost:8080/"
        },
        "id": "uTbr4EES1ibg",
        "outputId": "6c11059d-f005-4220-da27-780d6b7cec9a"
      },
      "execution_count": 58,
      "outputs": [
        {
          "output_type": "stream",
          "name": "stdout",
          "text": [
            "mean of ultra L is: 32.00898678414097\n",
            "mean of ultra R is: 32.01735682819383\n",
            "standard deviation of ultra L is: 0.37770709528060986\n",
            "standard deviation of ultra R is: 0.37757179177133127\n",
            "the difference between the theretical value and the meansure value is 2.0089867841409728 cm for the left sensor , and 2.017356828193833 cm for the right sensor\n"
          ]
        }
      ]
    },
    {
      "cell_type": "code",
      "source": [
        "import pandas as pd\n",
        "import numpy as np\n",
        "\n",
        "data_435_cm = 'https://raw.githubusercontent.com/HenryCROSS/sumobot/master/data/second_car_data/data_front/43.5cm.csv'\n",
        "\n",
        "\n",
        "data = pd.read_csv(data_435_cm, header = None )\n",
        "\n",
        "\n",
        "# Lists to hold the sorted values\n",
        "ultra_L = []\n",
        "ultra_R = []\n",
        "#print(data)\n",
        "#print(data[1][3])\n",
        "\n",
        "for i in range(len(data)-1):\n",
        "  data_L = data[1][i]\n",
        "  data_R = data[1][i+1]\n",
        "\n",
        "  ultra_L.append(data_L)\n",
        "  ultra_R.append(data_R)\n",
        "\n",
        "mean_ultra_L = np.mean(ultra_L)\n",
        "mean_ultra_R = np.mean(ultra_R)\n",
        "\n",
        "# Data_front 43.5cm\n",
        "theoretical_value = 43.5\n",
        "\n",
        "difference_L = np.abs(theoretical_value - mean_ultra_L)\n",
        "difference_R = np.abs(theoretical_value - mean_ultra_R)\n",
        "\n",
        "print(f'mean of ultra L is: {mean_ultra_L}')\n",
        "print(f'mean of ultra R is: {mean_ultra_R}')\n",
        "print(f'standard deviation of ultra L is: {std_ultra_L}')\n",
        "print(f'standard deviation of ultra R is: {std_ultra_R}')\n",
        "print(f\"the difference between the theretical value and the meansure value is {difference_L} cm for the left sensor , and {difference_R} cm for the right sensor\")\n"
      ],
      "metadata": {
        "colab": {
          "base_uri": "https://localhost:8080/"
        },
        "id": "SWmGtiPQ1zQh",
        "outputId": "7eda154c-8dce-4028-8762-fc717f6b5210"
      },
      "execution_count": 57,
      "outputs": [
        {
          "output_type": "stream",
          "name": "stdout",
          "text": [
            "mean of ultra L is: 43.533784860557766\n",
            "mean of ultra R is: 43.536055776892425\n",
            "standard deviation of ultra L is: 0.37770709528060986\n",
            "standard deviation of ultra R is: 0.37757179177133127\n",
            "the difference between the theretical value and the meansure value is 0.033784860557766194 cm for the left sensor , and 0.03605577689242523 cm for the right sensor\n"
          ]
        }
      ]
    }
  ]
}